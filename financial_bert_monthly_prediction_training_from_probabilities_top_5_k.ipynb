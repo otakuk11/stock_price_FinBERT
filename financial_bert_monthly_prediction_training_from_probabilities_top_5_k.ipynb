{
  "nbformat": 4,
  "nbformat_minor": 0,
  "metadata": {
    "colab": {
      "provenance": [],
      "machine_shape": "hm",
      "gpuType": "V100",
      "authorship_tag": "ABX9TyN+YmawF+oMoAEdWRErmnbQ",
      "include_colab_link": true
    },
    "kernelspec": {
      "name": "python3",
      "display_name": "Python 3"
    },
    "language_info": {
      "name": "python"
    },
    "accelerator": "GPU"
  },
  "cells": [
    {
      "cell_type": "markdown",
      "metadata": {
        "id": "view-in-github",
        "colab_type": "text"
      },
      "source": [
        "<a href=\"https://colab.research.google.com/github/gitHubAndyLee2020/FinanceBERT/blob/main/financial_bert_monthly_prediction_training_from_probabilities_top_5_k.ipynb\" target=\"_parent\"><img src=\"https://colab.research.google.com/assets/colab-badge.svg\" alt=\"Open In Colab\"/></a>"
      ]
    },
    {
      "cell_type": "markdown",
      "source": [
        "### FinancialBERT Monthly Prediction Training from Probabilities - Top 5 k"
      ],
      "metadata": {
        "id": "vXCQfEFV7yj_"
      }
    },
    {
      "cell_type": "markdown",
      "source": [
        "### Data Preparation"
      ],
      "metadata": {
        "id": "8zg86qMz72Kq"
      }
    },
    {
      "cell_type": "code",
      "execution_count": null,
      "metadata": {
        "id": "IP8KNv-G7tFr"
      },
      "outputs": [],
      "source": [
        "# Upload training_data.jsonl file into a variable called \"training_data\"\n",
        "# Upload zipped stock_data folder\n",
        "from google.colab import files\n",
        "\n",
        "uploaded = files.upload()"
      ]
    },
    {
      "cell_type": "code",
      "source": [
        "!unzip stock_data.zip\n",
        "!rm stock_data.zip"
      ],
      "metadata": {
        "id": "_BwOjk4e8Faj"
      },
      "execution_count": null,
      "outputs": []
    },
    {
      "cell_type": "code",
      "source": [
        "# Prepare stock price history data\n",
        "import json\n",
        "import os\n",
        "\n",
        "# Path to your folder containing .jsonl files\n",
        "folder_path = 'stock_data/'\n",
        "\n",
        "# Initialize an empty list to store the dictionaries from all files\n",
        "stock_price_history_data_list = []\n",
        "\n",
        "# Iterate over each file in the folder\n",
        "for filename in os.listdir(folder_path):\n",
        "    if filename.endswith('.jsonl'):\n",
        "        file_path = os.path.join(folder_path, filename)\n",
        "\n",
        "        # Open and read each file\n",
        "        with open(file_path, 'r') as file:\n",
        "            for line in file:\n",
        "                # Convert each line into a dictionary and append to the list\n",
        "                stock_price_history_data_list.append(json.loads(line))\n",
        "\n",
        "stock_price_history_data = {}\n",
        "\n",
        "for entry in stock_price_history_data_list:\n",
        "    if entry['stock'] not in stock_price_history_data:\n",
        "        stock_price_history_data[entry['stock']] = {}\n",
        "    stock_price_history_data[entry['stock']][entry['month_year']] = {\n",
        "        'this_month_vw': entry['this_month_vw'],\n",
        "        'next_month_vw': entry['next_month_vw'],\n",
        "        'percentage_change': entry['percentage_change'],\n",
        "    }"
      ],
      "metadata": {
        "id": "_Bc2ctP-8HOf"
      },
      "execution_count": 3,
      "outputs": []
    },
    {
      "cell_type": "code",
      "source": [
        "# Prepare training data\n",
        "import json\n",
        "\n",
        "# Path to your .jsonl file\n",
        "file_path = 'cleaned_training_data.jsonl'\n",
        "\n",
        "# Initialize an empty list to store the dictionaries\n",
        "training_data_list = []\n",
        "\n",
        "# Open the file and read line by line\n",
        "with open(file_path, 'r') as file:\n",
        "    for line in file:\n",
        "        # Convert each line into a dictionary and append to the list\n",
        "        training_data_list.append(json.loads(line))\n",
        "\n",
        "training_data = {}\n",
        "\n",
        "for entry in training_data_list:\n",
        "    if entry['stock'] not in training_data:\n",
        "        training_data[entry['stock']] = {}\n",
        "    training_data[entry['stock']][entry['month_year']] = entry['data']"
      ],
      "metadata": {
        "id": "t0dCMLbV8I3t"
      },
      "execution_count": 4,
      "outputs": []
    },
    {
      "cell_type": "code",
      "source": [
        "stock_price_history_data['A']['2019-02'], training_data['A']['2019-02']"
      ],
      "metadata": {
        "colab": {
          "base_uri": "https://localhost:8080/"
        },
        "id": "9q7M3Rga8LQM",
        "outputId": "9b3a63e7-9c96-4939-9e1f-6fab0281f1f4"
      },
      "execution_count": 5,
      "outputs": [
        {
          "output_type": "execute_result",
          "data": {
            "text/plain": [
              "({'this_month_vw': 77.448,\n",
              "  'next_month_vw': 80.0518,\n",
              "  'percentage_change': 0.03361997727507498},\n",
              " [{'title': 'Barclays Maintains Overweight on Agilent Technologies, Raises Price Target to $83',\n",
              "   'date': '2019-02-21 08:00:00-05:00'},\n",
              "  {'title': 'UPDATE: Agilent Raises FY19 Adj. EPS Guidance From $3-$3.05 To $3.03-$3.07 vs $3.05 Estimate, Sales From $5.13B-$5.17B To $5.15B-$5.19B vs $5.17B Est.',\n",
              "   'date': '2019-02-20 16:07:00-05:00'},\n",
              "  {'title': 'Agilent Sees Q2 Adj. EPS $0.70-$0.72 vs $0.72 Estimate, Sales $1.255B-$1.27B vs $1.27B Est.; Raises FY19 Guidance',\n",
              "   'date': '2019-02-20 16:06:00-05:00'},\n",
              "  {'title': 'Agilent Technologies Q1 EPS $0.76 Beats $0.73 Estimate, Sales $1.284B Beat $1.27B Estimate',\n",
              "   'date': '2019-02-20 16:05:00-05:00'},\n",
              "  {'title': '10 Stocks To Watch For February 20, 2019',\n",
              "   'date': '2019-02-20 04:33:00-05:00'},\n",
              "  {'title': 'Earnings Scheduled For February 20, 2019',\n",
              "   'date': '2019-02-20 04:04:00-05:00'},\n",
              "  {'title': 'JANA 13F Shows Liquidated Stakes In Alibaba, Agilent, US Steel, SVMK, Electronic Arts, Dollar Tree',\n",
              "   'date': '2019-02-14 09:36:00-05:00'},\n",
              "  {'title': '8 Biggest Price Target Changes For Tuesday',\n",
              "   'date': '2019-02-12 09:57:00-05:00'},\n",
              "  {'title': 'Deutsche Bank Maintains Buy on Agilent Technologies, Raises Price Target to $85',\n",
              "   'date': '2019-02-12 08:34:00-05:00'}])"
            ]
          },
          "metadata": {},
          "execution_count": 5
        }
      ]
    },
    {
      "cell_type": "markdown",
      "source": [
        "### Top-k Retrival"
      ],
      "metadata": {
        "id": "L9Ap8bkFNDze"
      }
    },
    {
      "cell_type": "code",
      "source": [
        "!pip install faiss-cpu"
      ],
      "metadata": {
        "id": "XLTgD2y_Vjtz"
      },
      "execution_count": null,
      "outputs": []
    },
    {
      "cell_type": "code",
      "source": [
        "import faiss\n",
        "import numpy as np\n",
        "from sklearn.feature_extraction.text import TfidfVectorizer"
      ],
      "metadata": {
        "id": "YFWk_kMBV5W5"
      },
      "execution_count": 7,
      "outputs": []
    },
    {
      "cell_type": "code",
      "source": [
        "# Format train/test dataset\n",
        "presplit_texts = []\n",
        "presplit_targets = []\n",
        "presplit_vectors = []"
      ],
      "metadata": {
        "id": "x5twThdqljpv"
      },
      "execution_count": 8,
      "outputs": []
    },
    {
      "cell_type": "code",
      "source": [
        "# Vectorization using TF-IDF\n",
        "vectorizer = TfidfVectorizer()\n",
        "all_texts = []\n",
        "\n",
        "for ticker in stock_price_history_data.keys():\n",
        "    for month_year in stock_price_history_data[ticker].keys():\n",
        "        if month_year in training_data[ticker]:\n",
        "            headlines = [item['title'] for item in training_data[ticker][month_year]]\n",
        "            all_texts.extend(headlines)\n",
        "\n",
        "vectorizer.fit(all_texts)\n",
        "\n",
        "for ticker in stock_price_history_data.keys():\n",
        "    for month_year in stock_price_history_data[ticker].keys():\n",
        "        if month_year in training_data[ticker]:\n",
        "            headlines = [item['title'] for item in training_data[ticker][month_year]]\n",
        "            presplit_texts.append(headlines)\n",
        "            presplit_targets.append(stock_price_history_data[ticker][month_year]['percentage_change'])\n",
        "            presplit_vectors.append(vectorizer.transform(headlines).toarray())"
      ],
      "metadata": {
        "id": "K1wkpGNY8M4U"
      },
      "execution_count": 9,
      "outputs": []
    },
    {
      "cell_type": "code",
      "source": [
        "from sklearn.model_selection import train_test_split\n",
        "\n",
        "# Randomly split the dataset into train and test sets for texts, targets, and vectors\n",
        "texts, test_texts, targets, test_targets, vectors, test_vectors = train_test_split(\n",
        "    presplit_texts, presplit_targets, presplit_vectors, test_size=0.1, random_state=42\n",
        ")"
      ],
      "metadata": {
        "id": "EQBnFNuW8OMO"
      },
      "execution_count": 32,
      "outputs": []
    },
    {
      "cell_type": "code",
      "source": [
        "# Query (vectorized)\n",
        "k = 5\n",
        "query_text = [\"latest stock prices news headlines\"]\n",
        "query_vector = vectorizer.transform(query_text).toarray().astype('float32')"
      ],
      "metadata": {
        "id": "BDCBN-L9uVCn"
      },
      "execution_count": 33,
      "outputs": []
    },
    {
      "cell_type": "code",
      "source": [
        "from tqdm import tqdm\n",
        "\n",
        "top_k_texts = []\n",
        "\n",
        "# Wrap the iteration over texts with tqdm\n",
        "for i, group_vectors in enumerate(tqdm(vectors)):\n",
        "    dimension = group_vectors.shape[1]\n",
        "    index = faiss.IndexFlatL2(dimension)\n",
        "    index.add(group_vectors.astype('float32'))\n",
        "    D, I = index.search(query_vector, k)\n",
        "\n",
        "    selected_texts = [texts[i][selected_index] for selected_index in I[0]]\n",
        "\n",
        "    top_k_texts.append(selected_texts)"
      ],
      "metadata": {
        "id": "WN-0yfjlBVzD"
      },
      "execution_count": null,
      "outputs": []
    },
    {
      "cell_type": "code",
      "source": [
        "from tqdm import tqdm\n",
        "\n",
        "test_top_k_texts = []\n",
        "\n",
        "# Wrap the iteration over texts with tqdm\n",
        "for i, group_vectors in enumerate(tqdm(test_vectors)):\n",
        "    dimension = group_vectors.shape[1]\n",
        "    index = faiss.IndexFlatL2(dimension)\n",
        "    index.add(group_vectors.astype('float32'))\n",
        "    D, I = index.search(query_vector, k)\n",
        "\n",
        "    selected_texts = [test_texts[i][selected_index] for selected_index in I[0]]\n",
        "\n",
        "    test_top_k_texts.append(selected_texts)"
      ],
      "metadata": {
        "id": "g1ZfgXcSCbKY"
      },
      "execution_count": null,
      "outputs": []
    },
    {
      "cell_type": "markdown",
      "source": [
        "### Model Definition"
      ],
      "metadata": {
        "id": "BBYLvPvE8P1e"
      }
    },
    {
      "cell_type": "code",
      "source": [
        "import torch\n",
        "from torch import nn\n",
        "import torch.nn.functional as F\n",
        "from transformers import BertForSequenceClassification, BertTokenizer"
      ],
      "metadata": {
        "id": "fPrXXun1AQFY"
      },
      "execution_count": 14,
      "outputs": []
    },
    {
      "cell_type": "code",
      "source": [
        "device = torch.device(\"cuda\" if torch.cuda.is_available() else \"cpu\")\n",
        "print(\"Using device:\", device)"
      ],
      "metadata": {
        "id": "QfC9N0xQAlWt"
      },
      "execution_count": null,
      "outputs": []
    },
    {
      "cell_type": "code",
      "source": [
        "class FinBERTRegressor(nn.Module):\n",
        "    def __init__(self, finbert_model_name=\"ProsusAI/finbert\", output_size=1):\n",
        "        super(FinBERTRegressor, self).__init__()\n",
        "\n",
        "        # Each FinBERT output will have 3 probabilities (positive, negative, neutral)\n",
        "        self.num_classes = 3\n",
        "\n",
        "        # Load the FinBERT model\n",
        "        self.finbert = BertForSequenceClassification.from_pretrained(finbert_model_name, num_labels=self.num_classes)\n",
        "\n",
        "        # Adjust input size for concatenated probabilities (5 inputs each with 3 probabilities)\n",
        "        self.concatenated_input_size = self.num_classes * 5\n",
        "\n",
        "        # Regression layer for concatenated probabilities\n",
        "        self.regressor = nn.Linear(self.concatenated_input_size, output_size)\n",
        "\n",
        "    def forward(self, input_ids_list, attention_mask_list, token_type_ids_list=None):\n",
        "        concatenated_probabilities = []\n",
        "        for i in range(5):\n",
        "            with torch.no_grad():  # No need to calculate gradients for FinBERT\n",
        "                # Select all batches for the i-th group\n",
        "                input_ids = input_ids_list[:, i, :]\n",
        "                attention_mask = attention_mask_list[:, i, :]\n",
        "\n",
        "                # Pass the selected inputs to FinBERT\n",
        "                outputs = self.finbert(input_ids=input_ids, attention_mask=attention_mask)\n",
        "\n",
        "                # Assume outputs are probabilities from FinBERT's classification head\n",
        "                probabilities = outputs.logits.softmax(dim=-1)\n",
        "                # Append the probabilities\n",
        "                concatenated_probabilities.append(probabilities)\n",
        "\n",
        "        # Concatenate the probabilities from all inputs\n",
        "        concatenated_probabilities_tensor = torch.cat(concatenated_probabilities, dim=1)\n",
        "\n",
        "        # Pass through the regression layer\n",
        "        return self.regressor(concatenated_probabilities_tensor)"
      ],
      "metadata": {
        "id": "qnMc82rvAUDv"
      },
      "execution_count": 41,
      "outputs": []
    },
    {
      "cell_type": "code",
      "source": [
        "model = FinBERTRegressor()\n",
        "model.to(device)  # Move the model to the GPU"
      ],
      "metadata": {
        "id": "q6WxIoNcBAPL"
      },
      "execution_count": null,
      "outputs": []
    },
    {
      "cell_type": "code",
      "source": [
        "tokenizer = BertTokenizer.from_pretrained(\"ProsusAI/finbert\")"
      ],
      "metadata": {
        "id": "0EwfOPq2BSqQ"
      },
      "execution_count": null,
      "outputs": []
    },
    {
      "cell_type": "markdown",
      "source": [
        "### Data Processing"
      ],
      "metadata": {
        "id": "YsyQG8kVO_if"
      }
    },
    {
      "cell_type": "code",
      "source": [
        "from torch.utils.data import DataLoader, TensorDataset\n",
        "import torch.optim as optim\n",
        "from tqdm import tqdm  # Import tqdm\n",
        "\n",
        "# Assuming 'texts' is your list of lists of texts to be tokenized\n",
        "input_ids_list = []\n",
        "attention_masks_list = []\n",
        "\n",
        "# Wrap the iteration over texts with tqdm\n",
        "for text_list in tqdm(top_k_texts, desc=\"Tokenizing\"):\n",
        "    input_ids = []\n",
        "    attention_masks = []\n",
        "    for text in text_list:\n",
        "        encoded_dict = tokenizer.encode_plus(\n",
        "                            text,\n",
        "                            add_special_tokens=True,\n",
        "                            max_length=64,\n",
        "                            pad_to_max_length=True,\n",
        "                            return_attention_mask=True,\n",
        "                            return_tensors='pt',\n",
        "                       )\n",
        "\n",
        "        input_ids.append(encoded_dict['input_ids'])\n",
        "        attention_masks.append(encoded_dict['attention_mask'])\n",
        "\n",
        "    # Use torch.stack to create a tensor from the list of tensors\n",
        "    input_ids_list.append(torch.stack(input_ids, dim=0))\n",
        "    attention_masks_list.append(torch.stack(attention_masks, dim=0))\n",
        "\n",
        "input_ids_list = torch.stack(input_ids_list, dim=0)\n",
        "attention_masks_list = torch.stack(attention_masks_list, dim=0)\n",
        "targets = torch.tensor(targets)\n",
        "\n",
        "# Squeeze the singleton dimensions from input_ids_list and attention_masks_list\n",
        "input_ids_list = input_ids_list.squeeze(2)\n",
        "attention_masks_list = attention_masks_list.squeeze(2)\n",
        "# Squeeze the targets tensor to make it one-dimensional\n",
        "targets = targets.squeeze()\n",
        "\n",
        "# Create TensorDataset\n",
        "dataset = TensorDataset(input_ids_list, attention_masks_list, targets)\n",
        "\n",
        "# DataLoader\n",
        "batch_size = 16\n",
        "dataloader = DataLoader(dataset, batch_size=batch_size, shuffle=True)\n",
        "\n",
        "# Loss function\n",
        "loss_fn = nn.MSELoss()\n",
        "\n",
        "# Optimizer\n",
        "optimizer = optim.Adam(model.parameters(), lr=1e-5)"
      ],
      "metadata": {
        "id": "qDHGKXO4PA18"
      },
      "execution_count": null,
      "outputs": []
    },
    {
      "cell_type": "code",
      "source": [
        "from torch.utils.data import DataLoader, TensorDataset\n",
        "import torch.optim as optim\n",
        "from tqdm import tqdm  # Import tqdm\n",
        "\n",
        "# Assuming 'texts' is your list of lists of texts to be tokenized\n",
        "test_input_ids_list = []\n",
        "test_attention_masks_list = []\n",
        "\n",
        "# Wrap the iteration over texts with tqdm\n",
        "for text_list in tqdm(test_top_k_texts, desc=\"Tokenizing\"):\n",
        "    input_ids = []\n",
        "    attention_masks = []\n",
        "    for text in text_list:\n",
        "        encoded_dict = tokenizer.encode_plus(\n",
        "                            text,\n",
        "                            add_special_tokens=True,\n",
        "                            max_length=64,\n",
        "                            pad_to_max_length=True,\n",
        "                            return_attention_mask=True,\n",
        "                            return_tensors='pt',\n",
        "                       )\n",
        "\n",
        "        input_ids.append(encoded_dict['input_ids'])\n",
        "        attention_masks.append(encoded_dict['attention_mask'])\n",
        "\n",
        "    # Use torch.stack to create a tensor from the list of tensors\n",
        "    test_input_ids_list.append(torch.stack(input_ids, dim=0))\n",
        "    test_attention_masks_list.append(torch.stack(attention_masks, dim=0))\n",
        "\n",
        "test_input_ids_list = torch.stack(test_input_ids_list, dim=0)\n",
        "test_attention_masks_list = torch.stack(test_attention_masks_list, dim=0)\n",
        "test_targets = torch.tensor(test_targets)\n",
        "\n",
        "# Squeeze the singleton dimensions from test_input_ids_list and test_attention_masks_list\n",
        "test_input_ids_list = test_input_ids_list.squeeze(2)\n",
        "test_attention_masks_list = test_attention_masks_list.squeeze(2)\n",
        "# Squeeze the targets tensor to make it one-dimensional\n",
        "test_targets = test_targets.squeeze()\n",
        "\n",
        "# Create TensorDataset\n",
        "test_dataset = TensorDataset(test_input_ids_list, test_attention_masks_list, test_targets)\n",
        "\n",
        "# DataLoader\n",
        "batch_size = 16\n",
        "test_dataloader = DataLoader(test_dataset, batch_size=batch_size, shuffle=True)\n",
        "\n",
        "# Loss function\n",
        "loss_fn = nn.MSELoss()\n",
        "\n",
        "# Optimizer\n",
        "optimizer = optim.Adam(model.parameters(), lr=1e-5)"
      ],
      "metadata": {
        "id": "hikQSlgfjo8p"
      },
      "execution_count": null,
      "outputs": []
    },
    {
      "cell_type": "markdown",
      "source": [
        "### Training Loop"
      ],
      "metadata": {
        "id": "BbCX88vyV-FU"
      }
    },
    {
      "cell_type": "code",
      "source": [
        "avg_train_loss_history = []\n",
        "avg_test_loss_history = []\n",
        "# Initialize variables to track the best test loss and corresponding epoch\n",
        "best_test_loss = float('inf')\n",
        "best_epoch = 0"
      ],
      "metadata": {
        "id": "aWYTp_P6V8Ub"
      },
      "execution_count": 43,
      "outputs": []
    },
    {
      "cell_type": "code",
      "source": [
        "start_epoch = 1 # inclusive\n",
        "end_epoch = 51 # exclusive"
      ],
      "metadata": {
        "id": "dHQE5jF9WAkE"
      },
      "execution_count": 44,
      "outputs": []
    },
    {
      "cell_type": "code",
      "source": [
        "# Check if the model directory exists, if not, create it\n",
        "model_dir = 'model'\n",
        "if not os.path.exists(model_dir):\n",
        "    os.makedirs(model_dir)\n",
        "\n",
        "# Training Loop\n",
        "for epoch in range(start_epoch, end_epoch):\n",
        "    # Training Phase\n",
        "    model.train()\n",
        "    total_train_loss = 0\n",
        "\n",
        "    progress_bar = tqdm(dataloader, desc=f'Epoch {epoch}/{end_epoch - 1}')\n",
        "    for batch in progress_bar:\n",
        "        b_input_ids, b_input_mask, b_labels = [b.to(device) for b in batch]\n",
        "        optimizer.zero_grad()\n",
        "        outputs = model(b_input_ids, b_input_mask)\n",
        "        loss = loss_fn(outputs.squeeze(), b_labels.float())\n",
        "        total_train_loss += loss.item()\n",
        "        loss.backward()\n",
        "        optimizer.step()\n",
        "        progress_bar.set_description(f\"Epoch {epoch}/{end_epoch - 1} - Train Loss: {loss.item():.2f}\")\n",
        "\n",
        "    avg_train_loss = total_train_loss / len(dataloader)\n",
        "    avg_train_loss_history.append(avg_train_loss)\n",
        "    print(f'Epoch {epoch}/{end_epoch - 1} - Avg Train Loss: {avg_train_loss:.2f}')\n",
        "\n",
        "    # Evaluation Phase\n",
        "    model.eval()\n",
        "    total_test_loss = 0\n",
        "    with torch.no_grad():\n",
        "        for batch in test_dataloader:\n",
        "            b_input_ids, b_input_mask, b_labels = [b.to(device) for b in batch]\n",
        "            outputs = model(b_input_ids, b_input_mask)\n",
        "            loss = loss_fn(outputs.squeeze(), b_labels.float())\n",
        "            total_test_loss += loss.item()\n",
        "\n",
        "    avg_test_loss = total_test_loss / len(test_dataloader)\n",
        "    avg_test_loss_history.append(avg_test_loss)\n",
        "    print(f'Epoch {epoch}/{end_epoch - 1} - Avg Test Loss: {avg_test_loss:.2f}')\n",
        "\n",
        "    # Keep track of the best epoch\n",
        "    if avg_test_loss < best_test_loss:\n",
        "        best_test_loss = avg_test_loss\n",
        "        best_epoch = epoch\n",
        "\n",
        "    # Save the model weights\n",
        "    model_save_path = os.path.join(model_dir, f'model_epoch_{epoch}.pth')\n",
        "    torch.save(model.regressor.state_dict(), model_save_path)\n",
        "    print(f'Model saved for epoch {epoch} at {model_save_path}')"
      ],
      "metadata": {
        "id": "P3MwmEBZV2hC"
      },
      "execution_count": null,
      "outputs": []
    },
    {
      "cell_type": "markdown",
      "source": [
        "### Examples Inputs & Outputs"
      ],
      "metadata": {
        "id": "NuDETwJn4iTx"
      }
    },
    {
      "cell_type": "markdown",
      "source": [
        "### Training Statistics"
      ],
      "metadata": {
        "id": "xCYR7IS5402N"
      }
    },
    {
      "cell_type": "code",
      "source": [
        "# Print the best epoch and its test loss after all epochs are completed\n",
        "print(f'Best epoch: {best_epoch} with Test Loss: {best_test_loss:.2f}')"
      ],
      "metadata": {
        "colab": {
          "base_uri": "https://localhost:8080/"
        },
        "id": "dyb58Hxw4eN4",
        "outputId": "4e8af1e0-fb06-42d1-fdab-016e4ee07fb6"
      },
      "execution_count": 46,
      "outputs": [
        {
          "output_type": "stream",
          "name": "stdout",
          "text": [
            "Best epoch: 7 with Test Loss: 0.14\n"
          ]
        }
      ]
    },
    {
      "cell_type": "code",
      "source": [
        "import matplotlib.pyplot as plt\n",
        "\n",
        "# Creating the plot\n",
        "plt.figure(figsize=(10, 6))  # Optional: You can adjust the figure size\n",
        "plt.plot(avg_train_loss_history, linestyle='-', color='b')  # Line plot without markers\n",
        "\n",
        "# Adding title and labels\n",
        "plt.title('Loss Over Time (Train Avg Loss)')\n",
        "plt.xlabel('Epochs')\n",
        "plt.ylabel('Loss')\n",
        "\n",
        "# Optionally, add a grid for easier reading\n",
        "plt.grid(True)\n",
        "\n",
        "# Show the plot\n",
        "plt.show()"
      ],
      "metadata": {
        "colab": {
          "base_uri": "https://localhost:8080/",
          "height": 437
        },
        "id": "HKsD49mq45Uf",
        "outputId": "bc1f2e7b-efb8-42b3-c54a-667951af4dfd"
      },
      "execution_count": 47,
      "outputs": [
        {
          "output_type": "display_data",
          "data": {
            "text/plain": [
              "<Figure size 1000x600 with 1 Axes>"
            ],
            "image/png": "[encoded data removed]"
          },
          "metadata": {}
        }
      ]
    },
    {
      "cell_type": "code",
      "source": [
        "import matplotlib.pyplot as plt\n",
        "\n",
        "# Creating the plot\n",
        "plt.figure(figsize=(10, 6))  # Optional: You can adjust the figure size\n",
        "plt.plot(avg_test_loss_history, linestyle='-', color='b')  # Line plot without markers\n",
        "\n",
        "# Adding title and labels\n",
        "plt.title('Loss Over Time (Test Avg Loss)')\n",
        "plt.xlabel('Epochs')\n",
        "plt.ylabel('Loss')\n",
        "\n",
        "# Optionally, add a grid for easier reading\n",
        "plt.grid(True)\n",
        "\n",
        "# Show the plot\n",
        "plt.show()"
      ],
      "metadata": {
        "colab": {
          "base_uri": "https://localhost:8080/",
          "height": 441
        },
        "id": "QcZsSDoi47K2",
        "outputId": "4647b038-e76d-4a0e-888b-29d78c330112"
      },
      "execution_count": 48,
      "outputs": [
        {
          "output_type": "display_data",
          "data": {
            "text/plain": [
              "<Figure size 1000x600 with 1 Axes>"
            ],
            "image/png": "[encoded data removed]"
          },
          "metadata": {}
        }
      ]
    },
    {
      "cell_type": "markdown",
      "source": [
        "### Model Information"
      ],
      "metadata": {
        "id": "UdqNI-FJ5PFk"
      }
    },
    {
      "cell_type": "code",
      "source": [
        "# Calculate the number of parameters\n",
        "total_params = sum(p.numel() for p in model.regressor.parameters())\n",
        "\n",
        "print(f\"Total number of parameters: {total_params}\")"
      ],
      "metadata": {
        "id": "cY6GSsIW5Rs9"
      },
      "execution_count": null,
      "outputs": []
    },
    {
      "cell_type": "code",
      "source": [
        "!ls -lh model/model_epoch_1.pth"
      ],
      "metadata": {
        "id": "TfFFiAQL5TIM"
      },
      "execution_count": null,
      "outputs": []
    },
    {
      "cell_type": "markdown",
      "source": [
        "### Downloading Model Data"
      ],
      "metadata": {
        "id": "s_ognk7X54pQ"
      }
    },
    {
      "cell_type": "code",
      "source": [
        "import json\n",
        "from google.colab import files\n",
        "\n",
        "# Example dictionary\n",
        "data = {\n",
        "    'batch_size': batch_size,\n",
        "    'learning_rate': 1e-5,\n",
        "    'num_epochs': 50,\n",
        "    'best_epoch': best_epoch,\n",
        "    'best_test_loss': best_test_loss,\n",
        "    'avg_train_loss_history': avg_train_loss_history,\n",
        "    'avg_test_loss_history': avg_test_loss_history,\n",
        "}\n",
        "\n",
        "# Convert dictionary to JSON formatted string\n",
        "json_data = json.dumps(data, indent=4)\n",
        "\n",
        "# Write JSON data to a file\n",
        "filename = 'model_training_data_top_5_k.json'\n",
        "with open(filename, 'w') as file:\n",
        "    file.write(json_data)\n",
        "\n",
        "# Download the file to your local system\n",
        "files.download(filename)"
      ],
      "metadata": {
        "colab": {
          "base_uri": "https://localhost:8080/",
          "height": 17
        },
        "id": "roESPUcI58M-",
        "outputId": "1944daf9-0f21-4635-92a8-36fb3a5128f5"
      },
      "execution_count": 53,
      "outputs": [
        {
          "output_type": "display_data",
          "data": {
            "text/plain": [
              "<IPython.core.display.Javascript object>"
            ],
            "application/javascript": [
              "\n",
              "    async function download(id, filename, size) {\n",
              "      if (!google.colab.kernel.accessAllowed) {\n",
              "        return;\n",
              "      }\n",
              "      const div = document.createElement('div');\n",
              "      const label = document.createElement('label');\n",
              "      label.textContent = `Downloading \"${filename}\": `;\n",
              "      div.appendChild(label);\n",
              "      const progress = document.createElement('progress');\n",
              "      progress.max = size;\n",
              "      div.appendChild(progress);\n",
              "      document.body.appendChild(div);\n",
              "\n",
              "      const buffers = [];\n",
              "      let downloaded = 0;\n",
              "\n",
              "      const channel = await google.colab.kernel.comms.open(id);\n",
              "      // Send a message to notify the kernel that we're ready.\n",
              "      channel.send({})\n",
              "\n",
              "      for await (const message of channel.messages) {\n",
              "        // Send a message to notify the kernel that we're ready.\n",
              "        channel.send({})\n",
              "        if (message.buffers) {\n",
              "          for (const buffer of message.buffers) {\n",
              "            buffers.push(buffer);\n",
              "            downloaded += buffer.byteLength;\n",
              "            progress.value = downloaded;\n",
              "          }\n",
              "        }\n",
              "      }\n",
              "      const blob = new Blob(buffers, {type: 'application/binary'});\n",
              "      const a = document.createElement('a');\n",
              "      a.href = window.URL.createObjectURL(blob);\n",
              "      a.download = filename;\n",
              "      div.appendChild(a);\n",
              "      a.click();\n",
              "      div.remove();\n",
              "    }\n",
              "  "
            ]
          },
          "metadata": {}
        },
        {
          "output_type": "display_data",
          "data": {
            "text/plain": [
              "<IPython.core.display.Javascript object>"
            ],
            "application/javascript": [
              "download(\"download_da7370d1-9c5f-444f-a746-7ce6276ff251\", \"model_training_data_top_5_k.json\", 3058)"
            ]
          },
          "metadata": {}
        }
      ]
    },
    {
      "cell_type": "code",
      "source": [
        "# Download the best model weight to your local system\n",
        "files.download(f'model/model_epoch_{best_epoch}.pth')"
      ],
      "metadata": {
        "id": "x89Z2FIf58VA"
      },
      "execution_count": null,
      "outputs": []
    }
  ]
}