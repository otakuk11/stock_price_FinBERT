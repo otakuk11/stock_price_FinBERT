{
  "nbformat": 4,
  "nbformat_minor": 0,
  "metadata": {
    "colab": {
      "provenance": [],
      "machine_shape": "hm",
      "gpuType": "V100",
      "authorship_tag": "ABX9TyO7oCytD/w7zFjTQkrHxbtm",
      "include_colab_link": true
    },
    "kernelspec": {
      "name": "python3",
      "display_name": "Python 3"
    },
    "language_info": {
      "name": "python"
    },
    "accelerator": "GPU"
  },
  "cells": [
    {
      "cell_type": "markdown",
      "metadata": {
        "id": "view-in-github",
        "colab_type": "text"
      },
      "source": [
        "<a href=\"https://colab.research.google.com/github/gitHubAndyLee2020/FinancialBERT/blob/main/financial_bert_rag_system.ipynb\" target=\"_parent\"><img src=\"https://colab.research.google.com/assets/colab-badge.svg\" alt=\"Open In Colab\"/></a>"
      ]
    },
    {
      "cell_type": "markdown",
      "source": [
        "### FinancialBERT RAG System"
      ],
      "metadata": {
        "id": "a-Q61aHE9Mcm"
      }
    },
    {
      "cell_type": "markdown",
      "source": [
        "### API Keys"
      ],
      "metadata": {
        "id": "xTkUwHFpUUkw"
      }
    },
    {
      "cell_type": "code",
      "source": [
        "%%writefile .env\n",
        "BING_SEARCH_API_KEY=<YOUR_BING_SEARCH_API_KEY>\n",
        "POLYGON_API_KEY=<YOUR_POLYGON_API_KEY>\n",
        "COHERE_API_KEY=<YOUR_COHERE_API_KEY>"
      ],
      "metadata": {
        "id": "v1Qy0xTRUVt-"
      },
      "execution_count": null,
      "outputs": []
    },
    {
      "cell_type": "markdown",
      "source": [
        "### Files Uploading"
      ],
      "metadata": {
        "id": "4ZySu2nqRaE3"
      }
    },
    {
      "cell_type": "code",
      "source": [
        "# Upload `model_regressor_weight_v2.pth` and `tickers_and_names.csv` here\n",
        "from google.colab import files\n",
        "\n",
        "uploaded = files.upload()"
      ],
      "metadata": {
        "id": "wgLWhcySRKyC"
      },
      "execution_count": null,
      "outputs": []
    },
    {
      "cell_type": "markdown",
      "source": [
        "### Package Installations"
      ],
      "metadata": {
        "id": "YgDv1gSjR_9h"
      }
    },
    {
      "cell_type": "code",
      "source": [
        "!pip install python-dotenv fuzzywuzzy python-Levenshtein cohere streamlit pyngrok"
      ],
      "metadata": {
        "id": "tJagnCyXR2ji"
      },
      "execution_count": null,
      "outputs": []
    },
    {
      "cell_type": "markdown",
      "source": [
        "### Name-Ticker Module"
      ],
      "metadata": {
        "id": "_26wLGcrRHuO"
      }
    },
    {
      "cell_type": "code",
      "source": [
        "%%writefile name_ticker_module.py\n",
        "import pandas as pd\n",
        "from fuzzywuzzy import process  # Assuming fuzzywuzzy is used for string matching\n",
        "\n",
        "# Load the CSV file into a DataFrame\n",
        "tickers_and_names = pd.read_csv('tickers_and_names.csv')\n",
        "\n",
        "def find_similar_names_and_tickers(query, threshold=80):\n",
        "    # Find matches above a certain score threshold\n",
        "    results = process.extractBests(query, tickers_and_names[\"Name\"], score_cutoff=threshold)\n",
        "\n",
        "    # Retrieve both name and ticker for each match\n",
        "    matched_pairs = []\n",
        "    for result in results:\n",
        "        matched_name = result[0]\n",
        "        matched_index = tickers_and_names[tickers_and_names[\"Name\"] == matched_name].index[0]\n",
        "        matched_ticker = tickers_and_names.loc[matched_index, \"Ticker\"]\n",
        "        matched_pairs.append((matched_name, matched_ticker))\n",
        "\n",
        "    return matched_pairs"
      ],
      "metadata": {
        "id": "nbsC31-HSGSq"
      },
      "execution_count": null,
      "outputs": []
    },
    {
      "cell_type": "markdown",
      "source": [
        "### Bing Search Module"
      ],
      "metadata": {
        "id": "8Cn8e-vbT-yB"
      }
    },
    {
      "cell_type": "code",
      "source": [
        "%%writefile bing_search_module.py\n",
        "from dotenv import load_dotenv\n",
        "import requests\n",
        "import os\n",
        "from datetime import datetime\n",
        "\n",
        "load_dotenv()  # This loads the variables from .env\n",
        "\n",
        "BING_SEARCH_API_KEY = os.getenv('BING_SEARCH_API_KEY')\n",
        "search_url = \"https://api.bing.microsoft.com/v7.0/news/search\"\n",
        "\n",
        "def bing_search_news(company_name: str):\n",
        "    headers = {\"Ocp-Apim-Subscription-Key\" : BING_SEARCH_API_KEY}\n",
        "    params  = {\n",
        "        \"q\": f\"{company_name} stock price and finance news\",\n",
        "        \"mkt\": \"en-US\",  # Search in English\n",
        "        \"textDecorations\": True,\n",
        "        \"textFormat\": \"HTML\",\n",
        "        \"freshness\": \"Month\",\n",
        "        \"count\": 100,\n",
        "    }\n",
        "    response = requests.get(search_url, headers=headers, params=params)\n",
        "    response.raise_for_status()\n",
        "    search_results = response.json()\n",
        "\n",
        "    current_month = datetime.now().month\n",
        "    current_year = datetime.now().year\n",
        "\n",
        "    filtered_articles = []\n",
        "    for article in search_results[\"value\"]:\n",
        "        # Adjust the date format\n",
        "        date_str = article[\"datePublished\"]\n",
        "        # Trimming microseconds to six digits and replacing 'Z' with '+00:00'\n",
        "        date_str = date_str[:-2] + date_str[-1].replace('Z', '+00:00')\n",
        "        published_date = datetime.fromisoformat(date_str)\n",
        "        if published_date.month == current_month and published_date.year == current_year:\n",
        "            filtered_articles.append(article)\n",
        "\n",
        "    return filtered_articles"
      ],
      "metadata": {
        "id": "Ie_yCtL5UTLL"
      },
      "execution_count": null,
      "outputs": []
    },
    {
      "cell_type": "markdown",
      "source": [
        "### Polygon Module"
      ],
      "metadata": {
        "id": "l_WXAi5xcAl0"
      }
    },
    {
      "cell_type": "code",
      "source": [
        "%%writefile polygon_module.py\n",
        "from dotenv import load_dotenv\n",
        "import requests\n",
        "import os\n",
        "\n",
        "load_dotenv()  # This loads the variables from .env\n",
        "\n",
        "POLYGON_API_KEY = os.getenv('POLYGON_API_KEY')\n",
        "\n",
        "# Monthly Stock Price History Data\n",
        "def get_stock_price_history(ticker: str, start_date: str, end_date: str):\n",
        "  # Polygon.io API URL for AAPL stock data\n",
        "  url = f'https://api.polygon.io/v2/aggs/ticker/{ticker}/range/1/month/{start_date}/{end_date}?apiKey={POLYGON_API_KEY}'\n",
        "\n",
        "  # Make the GET request\n",
        "  response = requests.get(url)\n",
        "\n",
        "  # Check if the request was successful\n",
        "  if response.status_code == 200:\n",
        "      # Parse the JSON data\n",
        "      data = response.json()\n",
        "      return [result['vw'] for result in data['results']]\n",
        "  else:\n",
        "      print(f'Failed to retrieve data: {response.status_code}')"
      ],
      "metadata": {
        "id": "M8-eBPaOcCN0"
      },
      "execution_count": null,
      "outputs": []
    },
    {
      "cell_type": "markdown",
      "source": [
        "### Calendar Module"
      ],
      "metadata": {
        "id": "LilzSDpbbyvV"
      }
    },
    {
      "cell_type": "code",
      "source": [
        "%%writefile calendar_module.py\n",
        "import datetime\n",
        "import calendar\n",
        "\n",
        "def get_first_last_days():\n",
        "    # Get the current date\n",
        "    current_date = datetime.date.today()\n",
        "\n",
        "    # Calculate the first day of the month 5 months ago\n",
        "    past_year, past_month = current_date.year, current_date.month\n",
        "    for _ in range(5):  # For 5 months\n",
        "        if past_month == 1:\n",
        "            past_month = 12\n",
        "            past_year -= 1\n",
        "        else:\n",
        "            past_month -= 1\n",
        "    past_first_day = datetime.date(past_year, past_month, 1)\n",
        "\n",
        "    # Calculate the last day of the current month\n",
        "    last_day = calendar.monthrange(current_date.year, current_date.month)[1]\n",
        "    current_month_last_day = datetime.date(current_date.year, current_date.month, last_day)\n",
        "\n",
        "    # Format the dates to the desired format\n",
        "    past_month_first_day_str = past_first_day.strftime('%Y-%m-%d')\n",
        "    current_month_last_day_str = current_month_last_day.strftime('%Y-%m-%d')\n",
        "\n",
        "    # Generate list of year-month labels from 5 months ago to the next month\n",
        "    year_month_labels = []\n",
        "    year, month = past_year, past_month\n",
        "    for _ in range(7):  # Including the current month and the next month\n",
        "        year_month_labels.append(f\"{year}-{str(month).zfill(2)}\")\n",
        "        month += 1\n",
        "        if month > 12:\n",
        "            month = 1\n",
        "            year += 1\n",
        "\n",
        "    return past_month_first_day_str, current_month_last_day_str, year_month_labels"
      ],
      "metadata": {
        "id": "sef22gyvaOQ8"
      },
      "execution_count": null,
      "outputs": []
    },
    {
      "cell_type": "markdown",
      "source": [
        "### Cohere Rerank Module"
      ],
      "metadata": {
        "id": "y1Y51BRmlFqf"
      }
    },
    {
      "cell_type": "code",
      "source": [
        "%%writefile cohere_rerank_module.py\n",
        "from dotenv import load_dotenv\n",
        "import os\n",
        "import cohere\n",
        "\n",
        "load_dotenv()  # This loads the variables from .env\n",
        "\n",
        "COHERE_API_KEY = os.getenv('COHERE_API_KEY')\n",
        "\n",
        "co = cohere.Client(COHERE_API_KEY)\n",
        "\n",
        "def rerank_search_results(company_name: str, search_results: list[str], top_n: int):\n",
        "    query = f\"Filter and prioritize news headlines explicitly discussing factors influencing {company_name}'s stock price, including market trends, financial reports, corporate announcements, and industry-specific news impacting {company_name}'s performance.\"\n",
        "    results = co.rerank(model=\"rerank-english-v2.0\", query=query, documents=search_results, top_n=top_n)\n",
        "    return [result.document['text'] for result in results]"
      ],
      "metadata": {
        "id": "TnATnvEIlHfW"
      },
      "execution_count": null,
      "outputs": []
    },
    {
      "cell_type": "markdown",
      "source": [
        "### FinancialBERT Module"
      ],
      "metadata": {
        "id": "1QcEmGICmPHw"
      }
    },
    {
      "cell_type": "code",
      "source": [
        "%%writefile financial_bert_module.py\n",
        "import torch\n",
        "from torch import nn\n",
        "from transformers import BertModel, BertTokenizer\n",
        "\n",
        "device = torch.device(\"cuda\" if torch.cuda.is_available() else \"cpu\")\n",
        "print(\"Using device:\", device)\n",
        "\n",
        "class FinBERTRegressor(nn.Module):\n",
        "    def __init__(self, finbert_model_name=\"ProsusAI/finbert\", hidden_size=768, output_size=1):\n",
        "        super(FinBERTRegressor, self).__init__()\n",
        "        # Load the FinBERT model\n",
        "        self.finbert = BertModel.from_pretrained(finbert_model_name)\n",
        "\n",
        "        # Regression layer\n",
        "        self.regressor = nn.Linear(hidden_size, output_size)\n",
        "\n",
        "    def forward(self, input_ids, attention_mask, token_type_ids=None):\n",
        "        # Get embeddings from FinBERT\n",
        "        with torch.no_grad():  # No need to calculate gradients for FinBERT\n",
        "            outputs = self.finbert(input_ids=input_ids, attention_mask=attention_mask)\n",
        "\n",
        "        # We use the [CLS] token's embedding for regression\n",
        "        cls_embedding = outputs.last_hidden_state[:, 0, :]\n",
        "\n",
        "        # Pass through the regression layer\n",
        "        return self.regressor(cls_embedding)\n",
        "\n",
        "if not ('model' in globals()):\n",
        "    model = FinBERTRegressor()\n",
        "    model.to(device)\n",
        "    model.regressor.load_state_dict(torch.load('model_regressor_weight_v2.pth'))\n",
        "\n",
        "if not ('tokenizer' in globals()):\n",
        "    tokenizer = BertTokenizer.from_pretrained(\"ProsusAI/finbert\")\n",
        "\n",
        "def predict_monthly_stock_price_change_rate(text: str):\n",
        "    # Tokenize the text\n",
        "    inputs = tokenizer(text, return_tensors=\"pt\", truncation=True, padding=True, max_length=512)\n",
        "\n",
        "    # Move the inputs to the same device as the model\n",
        "    inputs = {k: v.to(device) for k, v in inputs.items()}\n",
        "\n",
        "    # Generate output\n",
        "    output = model(**inputs)\n",
        "\n",
        "    return output.item()"
      ],
      "metadata": {
        "id": "SUzKniNHmRCN"
      },
      "execution_count": null,
      "outputs": []
    },
    {
      "cell_type": "markdown",
      "source": [
        "### Module Tests"
      ],
      "metadata": {
        "id": "CzddmbScnvFh"
      }
    },
    {
      "cell_type": "code",
      "source": [
        "from name_ticker_module import find_similar_names_and_tickers\n",
        "from bing_search_module import bing_search_news\n",
        "from polygon_module import get_stock_price_history\n",
        "from calendar_module import get_first_last_days\n",
        "from cohere_rerank_module import rerank_search_results\n",
        "from financial_bert_module import predict_monthly_stock_price_change_rate\n",
        "import matplotlib.pyplot as plt\n",
        "\n",
        "# Company Name Search\n",
        "user_input = \"Apple\"\n",
        "search_results = find_similar_names_and_tickers(user_input)\n",
        "name, ticker = search_results[0]\n",
        "print(\"Company Name Search:\")\n",
        "print(f\"Name: {name}, Ticker: {ticker}\")\n",
        "print(\"\\n\\n\")\n",
        "\n",
        "this_month_articles = bing_search_news(name)\n",
        "articles_content = [article['description'] for article in this_month_articles]\n",
        "print(\"Bing Search News Articles:\")\n",
        "for article in articles_content:\n",
        "    print(\"-\", article)\n",
        "print(\"\\n\\n\")\n",
        "\n",
        "reranked_articles_content = rerank_search_results(name, articles_content, 5)\n",
        "print(\"Cohere Reranked Articles:\")\n",
        "for index, article in enumerate(reranked_articles_content):\n",
        "    print(f\"{index + 1}.\", article)\n",
        "print(\"\\n\\n\")\n",
        "\n",
        "concatenated_articles_content = \" \".join(reranked_articles_content)\n",
        "\n",
        "monthly_stock_price_change_rate = predict_monthly_stock_price_change_rate(concatenated_articles_content)\n",
        "print(\"FinancialBERT Monthly Stock Price Change Rate:\")\n",
        "print(f\"{monthly_stock_price_change_rate * 100}% change from current month's stock price (vw)\")\n",
        "print(\"\\n\\n\")\n",
        "\n",
        "past_month_first_day_str, current_month_last_day_str, year_month_labels = get_first_last_days()\n",
        "stock_price_history = get_stock_price_history(ticker, past_month_first_day_str, current_month_last_day_str)\n",
        "predicted_next_month_stock_price = stock_price_history[-1] * (1 + monthly_stock_price_change_rate)\n",
        "stock_price_history.append(predicted_next_month_stock_price)\n",
        "print(\"Polygon Stock Price History:\")\n",
        "if len(year_month_labels) != len(stock_price_history):\n",
        "    print(\"Error: Length of year_month_labels and stock_price_history do not match.\")\n",
        "    exit()\n",
        "for index, year_month_label in enumerate(year_month_labels):\n",
        "    if index == len(year_month_labels) - 1:\n",
        "        print(f\"{year_month_label} stock price (vw): {stock_price_history[index]:.2f} (predicted)\")\n",
        "    else:\n",
        "      print(f\"{year_month_label} stock price (vw): {stock_price_history[index]:.2f}\")\n",
        "print(\"\\n\\n\")\n",
        "\n",
        "# Plotting the data\n",
        "plt.figure(figsize=(10, 6))\n",
        "plt.plot(year_month_labels[:-1], stock_price_history[:-1], label='History', marker='o')\n",
        "plt.plot(year_month_labels[-2:], stock_price_history[-2:], label='Prediction', color='red', marker='o')\n",
        "\n",
        "# Adding labels and title\n",
        "plt.xlabel('Year-Month')\n",
        "plt.ylabel('Stock Price')\n",
        "plt.title('Stock Price History and Prediction')\n",
        "plt.xticks(rotation=45)\n",
        "\n",
        "# Adding legend\n",
        "plt.legend()\n",
        "\n",
        "# Show the plot\n",
        "plt.show()"
      ],
      "metadata": {
        "colab": {
          "base_uri": "https://localhost:8080/",
          "height": 1000
        },
        "id": "f5mXGKj9nynI",
        "outputId": "2400d3fa-12b9-4cac-9ad6-f5834c9d003e"
      },
      "execution_count": 22,
      "outputs": [
        {
          "output_type": "stream",
          "name": "stdout",
          "text": [
            "Company Name Search:\n",
            "Name: Apple Inc., Ticker: AAPL\n",
            "\n",
            "\n",
            "\n",
            "Bing Search News Articles:\n",
            "- APLE stock has gone up by 0.06%, with a monthly decline of -1.42% and a quarterly surge of 3.88%. The volatility ratio for the week is 2.39%, and the volatility levels for the last 30 days are 2.21% for Apple Hospitality REIT Inc The simple moving average for the last 20\n",
            "- The stock of Apple Inc (AAPL) has gone up by 0.67% for the week, with a 9.93% rise in the past month and a 0.94% rise in the past quarter. The volatility ratio for the week is 1.17%, and the volatility levels for the past 30 days are 1.\n",
            "- Apple ( AAPL) stock is stuck in a trading range. This is good for near-term expiring covered call option plays and out-of-the-money short put plays. Investors can make extra income with these trades.\n",
            "- Check out the top iPhone deals for Black Friday &amp; Cyber Monday, featuring all the best prepaid, carrier &amp; unlocked Apple iPhone offers.BOSTON, MASS.\n",
            "- Save on iPhone 13, 14, 15 &amp; 15 Pro deals at the early Black Friday 2023 sale, together with Apple iPhone 13 mini, 14 Plus &amp; 15 Plus savingsBOSTON,\n",
            "- No significant <b>news</b> for in the past two years. Key <b>Stock</b> Data P/E Ratio (TTM) The <b>Price</b> to Earnings (P/E) ratio, a key valuation measure, is calculated by dividing the <b>stock</b>&#39;s most recent closing ...\n",
            "- Despite a turbulent market, the shares of <b>Apple</b> <b>Inc</b> ... <b>Apple</b>’s <b>stock</b> has shown a commendable resilience, marking its second consecutive day of gains. Although it closed $6.99 below its 52-week high on July 19th, the company’s <b>stock</b> <b>price</b> remains ...\n",
            "- In the world of <b>finance</b>, certain stocks can captivate investors and drive ... that have had a significant impact on market returns. These stocks include <b>Apple</b> <b>Inc</b>., Microsoft Corp., Amazon.com <b>Inc</b>., Nvidia Corp., Alphabet <b>Inc</b>., Tesla <b>Inc</b>., and Meta ...\n",
            "- Apple (NASDAQ:AAPL) stock again crossed the $3 trillion market cap. This comes for the first time since August, after its shares closed 2.11%\n",
            "- The main news out on Apple in the early part of the month was its fourth-quarter earnings report. It showed solid numbers, topping estimates on the top and bottom lines, but the stock actually pulled back slightly on the news, falling 0.6% on Nov. 3 after two straight days of strong gains to open the month.\n",
            "- Apple’s market capitalization crossed the elusive $3 trillion threshold again Tuesday as its stock rallied to a four-month high amid projections about a booming holiday quarter for the Silicon Valley behemoth. Shares of Apple gained 2% to about $193 by late afternoon, sending its valuation to $3.01 trillion.\n",
            "- New data from a major Apple supplier and Wall Street analysts pushed back against bearish calls around softening demand for the tech giant’s devices and services. It’s no wonder Apple (AAPL) shares have clawed their way back in recent weeks toward record highs.\n",
            "- A barrel of benchmark U.S. crude tumbled roughly 4% as expectations build that the world has too much oil available for global demand.\n",
            "- You’ll find several of the best smartwatches and best fitness trackers with their prices discounted right now, and among the current smartwatch deals are brands like Garmin, <b>Apple</b>, Samsung ...\n",
            "\n",
            "\n",
            "\n",
            "Cohere Reranked Articles:\n",
            "1. New data from a major Apple supplier and Wall Street analysts pushed back against bearish calls around softening demand for the tech giant’s devices and services. It’s no wonder Apple (AAPL) shares have clawed their way back in recent weeks toward record highs.\n",
            "2. In the world of <b>finance</b>, certain stocks can captivate investors and drive ... that have had a significant impact on market returns. These stocks include <b>Apple</b> <b>Inc</b>., Microsoft Corp., Amazon.com <b>Inc</b>., Nvidia Corp., Alphabet <b>Inc</b>., Tesla <b>Inc</b>., and Meta ...\n",
            "3. No significant <b>news</b> for in the past two years. Key <b>Stock</b> Data P/E Ratio (TTM) The <b>Price</b> to Earnings (P/E) ratio, a key valuation measure, is calculated by dividing the <b>stock</b>&#39;s most recent closing ...\n",
            "4. Despite a turbulent market, the shares of <b>Apple</b> <b>Inc</b> ... <b>Apple</b>’s <b>stock</b> has shown a commendable resilience, marking its second consecutive day of gains. Although it closed $6.99 below its 52-week high on July 19th, the company’s <b>stock</b> <b>price</b> remains ...\n",
            "5. The main news out on Apple in the early part of the month was its fourth-quarter earnings report. It showed solid numbers, topping estimates on the top and bottom lines, but the stock actually pulled back slightly on the news, falling 0.6% on Nov. 3 after two straight days of strong gains to open the month.\n",
            "\n",
            "\n",
            "\n",
            "FinancialBERT Monthly Stock Price Change Rate:\n",
            "4.03422936797142% change from current month's stock price (vw)\n",
            "\n",
            "\n",
            "\n",
            "Polygon Stock Price History:\n",
            "2023-07 stock price (vw): 192.52\n",
            "2023-08 stock price (vw): 181.15\n",
            "2023-09 stock price (vw): 176.89\n",
            "2023-10 stock price (vw): 174.33\n",
            "2023-11 stock price (vw): 184.57\n",
            "2023-12 stock price (vw): 191.62\n",
            "2024-01 stock price (vw): 199.35 (predicted)\n",
            "\n",
            "\n",
            "\n"
          ]
        },
        {
          "output_type": "display_data",
          "data": {
            "text/plain": [
              "<Figure size 1000x600 with 1 Axes>"
            ],
            "image/png": "[encoded data removed]"
          },
          "metadata": {}
        }
      ]
    },
    {
      "cell_type": "markdown",
      "source": [
        "### Streamlit Interface"
      ],
      "metadata": {
        "id": "qs3LD24f_sUc"
      }
    },
    {
      "cell_type": "code",
      "source": [
        "!ngrok config add-authtoken <YOUR_NGROK_AUTH_TOKEN>"
      ],
      "metadata": {
        "id": "FgiSCRY2_1BV"
      },
      "execution_count": null,
      "outputs": []
    },
    {
      "cell_type": "code",
      "source": [
        "%%writefile streamlit_app.py\n",
        "import streamlit as st\n",
        "from name_ticker_module import find_similar_names_and_tickers\n",
        "from bing_search_module import bing_search_news\n",
        "from polygon_module import get_stock_price_history\n",
        "from calendar_module import get_first_last_days\n",
        "from cohere_rerank_module import rerank_search_results\n",
        "from financial_bert_module import predict_monthly_stock_price_change_rate\n",
        "import matplotlib.pyplot as plt\n",
        "\n",
        "# Streamlit app layout\n",
        "st.title('Stock Analysis and Prediction')\n",
        "\n",
        "# Company Name Search\n",
        "user_input = st.text_input(\"Enter a company name\", \"Tesla\")\n",
        "if user_input:\n",
        "    search_results = find_similar_names_and_tickers(user_input)\n",
        "    option = st.selectbox('Choose a company:', search_results)\n",
        "    name, ticker = option\n",
        "\n",
        "    calculate_button = st.button('Calculate')\n",
        "    if calculate_button:\n",
        "        this_month_articles = bing_search_news(name)\n",
        "        articles_content = [article['description'] for article in this_month_articles]\n",
        "\n",
        "        reranked_articles_content = rerank_search_results(name, articles_content, 5)\n",
        "        st.subheader(\"Cohere Reranked Articles:\")\n",
        "        for article in reranked_articles_content:\n",
        "            st.write(\"-\", article)\n",
        "\n",
        "        concatenated_articles_content = \" \".join(reranked_articles_content)\n",
        "        monthly_stock_price_change_rate = predict_monthly_stock_price_change_rate(concatenated_articles_content)\n",
        "\n",
        "        past_month_first_day_str, current_month_last_day_str, year_month_labels = get_first_last_days()\n",
        "        stock_price_history = get_stock_price_history(ticker, past_month_first_day_str, current_month_last_day_str)\n",
        "        predicted_next_month_stock_price = stock_price_history[-1] * (1 + monthly_stock_price_change_rate)\n",
        "        stock_price_history.append(predicted_next_month_stock_price)\n",
        "\n",
        "        # Plotting the data\n",
        "        fig, ax = plt.subplots(figsize=(10, 6))\n",
        "        ax.plot(year_month_labels[:-1], stock_price_history[:-1], label='History', marker='o')\n",
        "        ax.plot(year_month_labels[-2:], stock_price_history[-2:], label='Prediction', color='red', marker='o')\n",
        "\n",
        "        # Adding labels and title\n",
        "        ax.set_xlabel('Year-Month')\n",
        "        ax.set_ylabel('Stock Price')\n",
        "        ax.set_title('Stock Price History and Prediction')\n",
        "        plt.xticks(rotation=45)\n",
        "\n",
        "        # Adding legend\n",
        "        ax.legend()\n",
        "\n",
        "        # Show the plot in Streamlit\n",
        "        st.pyplot(fig)"
      ],
      "metadata": {
        "id": "hguJiIQeA3G9"
      },
      "execution_count": null,
      "outputs": []
    },
    {
      "cell_type": "code",
      "source": [
        "# Import required libraries\n",
        "import threading\n",
        "from pyngrok import ngrok\n",
        "\n",
        "# Function to run Streamlit\n",
        "def run_streamlit():\n",
        "    !streamlit run streamlit_app.py --server.port=8501\n",
        "\n",
        "# Start Streamlit in a separate thread\n",
        "thread = threading.Thread(target=run_streamlit)\n",
        "thread.start()\n",
        "\n",
        "# Terminate any existing ngrok tunnels\n",
        "ngrok.kill()\n",
        "\n",
        "# Open a new ngrok tunnel to the Streamlit app\n",
        "public_url = ngrok.connect(8501)\n",
        "print('Streamlit app URL:', public_url)"
      ],
      "metadata": {
        "id": "rh8PUibeA5Ad"
      },
      "execution_count": null,
      "outputs": []
    }
  ]
}